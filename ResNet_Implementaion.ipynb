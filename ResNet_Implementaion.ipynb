{
  "nbformat": 4,
  "nbformat_minor": 0,
  "metadata": {
    "colab": {
      "name": "ResNet_Implementaion.ipynb",
      "provenance": [],
      "collapsed_sections": [],
      "include_colab_link": true
    },
    "kernelspec": {
      "display_name": "Python 3",
      "language": "python",
      "name": "python3"
    },
    "language_info": {
      "codemirror_mode": {
        "name": "ipython",
        "version": 3
      },
      "file_extension": ".py",
      "mimetype": "text/x-python",
      "name": "python",
      "nbconvert_exporter": "python",
      "pygments_lexer": "ipython3",
      "version": "3.7.4"
    },
    "accelerator": "GPU"
  },
  "cells": [
    {
      "cell_type": "markdown",
      "metadata": {
        "id": "view-in-github",
        "colab_type": "text"
      },
      "source": [
        "<a href=\"https://colab.research.google.com/github/Glitch0000/ResNet_Implementaion/blob/main/ResNet_Implementaion.ipynb\" target=\"_parent\"><img src=\"https://colab.research.google.com/assets/colab-badge.svg\" alt=\"Open In Colab\"/></a>"
      ]
    },
    {
      "cell_type": "markdown",
      "metadata": {
        "id": "GAx7y2DQFYIH"
      },
      "source": [
        "#  Implementing ResNet\n",
        "\n",
        "This is a simple example on using ResNet on CIFAR10 dataset.\n",
        "[Residual Networks](https://arxiv.org/abs/1512.03385) make use of skip connections to make deep models easier to train. \n",
        "- There are branches as well as many repeating blocks of layers in this type of network. \n",
        "- You can define a model class to help organize this more complex code, and to make it easier to re-use your code when building the model.\n",
        "- As before, you will inherit from the [Model class](https://keras.io/api/models/model/) so that you can make use of the other built-in methods that Keras provides."
      ]
    },
    {
      "cell_type": "markdown",
      "metadata": {
        "id": "ujtiFIBcFYIP"
      },
      "source": [
        "## Imports"
      ]
    },
    {
      "cell_type": "code",
      "metadata": {
        "id": "CmI9MQA6Z72_"
      },
      "source": [
        "import tensorflow as tf\n",
        "import tensorflow_datasets as tfds\n",
        "from tensorflow.keras.layers import Layer\n",
        "\n",
        "import numpy as np\n",
        "import matplotlib.pyplot as plt\n",
        "from PIL import Image, ImageFont, ImageDraw"
      ],
      "execution_count": 37,
      "outputs": []
    },
    {
      "cell_type": "markdown",
      "metadata": {
        "id": "Ik8Cp_AtFYIQ"
      },
      "source": [
        "## Implement Model subclasses\n",
        "\n",
        "We first implement the Identity Block which contains the skip connections (i.e. the `add()` operation below. This will also inherit the Model class and implement the `__init__()` and `call()` methods."
      ]
    },
    {
      "cell_type": "code",
      "metadata": {
        "id": "-FIkYUttchv5"
      },
      "source": [
        "class IdentityBlock(tf.keras.Model):\n",
        "    def __init__(self, filters, kernel_size):\n",
        "        super(IdentityBlock, self).__init__(name='')\n",
        "\n",
        "        self.conv1 = tf.keras.layers.Conv2D(filters, kernel_size, padding='same')\n",
        "        self.bn1 = tf.keras.layers.BatchNormalization()\n",
        "\n",
        "        self.conv2 = tf.keras.layers.Conv2D(filters, kernel_size, padding='same')\n",
        "        self.bn2 = tf.keras.layers.BatchNormalization()\n",
        "\n",
        "        self.act = tf.keras.layers.Activation('relu')\n",
        "        self.add = tf.keras.layers.Add()\n",
        "    \n",
        "    def call(self, input_tensor):\n",
        "        x = self.conv1(input_tensor)\n",
        "        x = self.bn1(x)\n",
        "        x = self.act(x)\n",
        "\n",
        "        x = self.conv2(x)\n",
        "        x = self.bn2(x)\n",
        "\n",
        "        x = self.add([x, input_tensor])\n",
        "        x = self.act(x)\n",
        "        return x"
      ],
      "execution_count": null,
      "outputs": []
    },
    {
      "cell_type": "markdown",
      "metadata": {
        "id": "EQ3nfwwwFYIR"
      },
      "source": [
        "From there, we can build the rest of the ResNet model. \n",
        "- We will call your `IdentityBlock` class two times below and that takes care of inserting those blocks of layers into this network."
      ]
    },
    {
      "cell_type": "code",
      "metadata": {
        "id": "YnMkmeecxw28"
      },
      "source": [
        "class ResNet(tf.keras.Model):\n",
        "    def __init__(self, num_classes):\n",
        "        super(ResNet, self).__init__()\n",
        "        self.conv = tf.keras.layers.Conv2D(64, 7, padding='same')\n",
        "        self.bn = tf.keras.layers.BatchNormalization()\n",
        "        self.act = tf.keras.layers.Activation('relu')\n",
        "        self.max_pool = tf.keras.layers.MaxPool2D((3, 3))\n",
        "\n",
        "        # Use the Identity blocks that we just defined\n",
        "        self.id1a = IdentityBlock(64, 3)\n",
        "        self.id1b = IdentityBlock(64, 3)\n",
        "\n",
        "        self.global_pool = tf.keras.layers.GlobalAveragePooling2D()\n",
        "        self.classifier = tf.keras.layers.Dense(num_classes, activation='softmax')\n",
        "\n",
        "    def call(self, inputs):\n",
        "        x = self.conv(inputs)\n",
        "        x = self.bn(x)\n",
        "        x = self.act(x)\n",
        "        x = self.max_pool(x)\n",
        "\n",
        "        # insert the identity blocks in the middle of the network\n",
        "        x = self.id1a(x)\n",
        "        x = self.id1b(x)\n",
        "\n",
        "        x = self.global_pool(x)\n",
        "        return self.classifier(x)"
      ],
      "execution_count": null,
      "outputs": []
    },
    {
      "cell_type": "markdown",
      "metadata": {
        "id": "t2z_SkEcFYIS"
      },
      "source": [
        "## Training the Model\n",
        "\n",
        "As mentioned before, inheriting the Model class allows us to make use of the other APIs that Keras provides, such as:\n",
        "- training\n",
        "- serialization\n",
        "- evaluation\n",
        "\n",
        "We can instantiate a Resnet object and train it as usual like below:\n",
        "\n"
      ]
    },
    {
      "cell_type": "code",
      "metadata": {
        "id": "6dMHKPz_dIc8",
        "colab": {
          "base_uri": "https://localhost:8080/"
        },
        "outputId": "9f290305-7b5b-4a7b-9d27-8f5e6d77e1fa"
      },
      "source": [
        "# utility function to normalize the images and return (image, label) pairs.\n",
        "def preprocess(features):\n",
        "    return tf.cast(features['image'], tf.float32) / 255., features['label']\n",
        "\n",
        "# create a ResNet instance with 10 output units for CIfAR10 dataset\n",
        "resnet = ResNet(10)\n",
        "resnet.compile(optimizer='adam', loss='sparse_categorical_crossentropy', metrics=['accuracy'])\n",
        "\n",
        "# load and preprocess the dataset\n",
        "#dataset = tfds.load('Covid19-dataset')\n",
        "dataset = tfds.load('cifar10', split=tfds.Split.TRAIN)\n",
        "#dataset = tf.data.Dataset('Covid19-dataset')\n",
        "dataset = dataset.map(preprocess).batch(32)\n",
        "\n",
        "# train the model\n",
        "resnet.fit(dataset, epochs=25)"
      ],
      "execution_count": 35,
      "outputs": [
        {
          "output_type": "stream",
          "text": [
            "Epoch 1/25\n",
            "1563/1563 [==============================] - 12s 7ms/step - loss: 1.5920 - accuracy: 0.4256\n",
            "Epoch 2/25\n",
            "1563/1563 [==============================] - 8s 5ms/step - loss: 1.0803 - accuracy: 0.6198\n",
            "Epoch 3/25\n",
            "1563/1563 [==============================] - 8s 5ms/step - loss: 0.9133 - accuracy: 0.6769\n",
            "Epoch 4/25\n",
            "1563/1563 [==============================] - 8s 5ms/step - loss: 0.7963 - accuracy: 0.7217\n",
            "Epoch 5/25\n",
            "1563/1563 [==============================] - 8s 5ms/step - loss: 0.7056 - accuracy: 0.7530\n",
            "Epoch 6/25\n",
            "1563/1563 [==============================] - 8s 5ms/step - loss: 0.6371 - accuracy: 0.7785\n",
            "Epoch 7/25\n",
            "1563/1563 [==============================] - 8s 5ms/step - loss: 0.5802 - accuracy: 0.7986\n",
            "Epoch 8/25\n",
            "1563/1563 [==============================] - 7s 5ms/step - loss: 0.5314 - accuracy: 0.8182\n",
            "Epoch 9/25\n",
            "1563/1563 [==============================] - 8s 5ms/step - loss: 0.4877 - accuracy: 0.8328\n",
            "Epoch 10/25\n",
            "1563/1563 [==============================] - 8s 5ms/step - loss: 0.4473 - accuracy: 0.8477\n",
            "Epoch 11/25\n",
            "1563/1563 [==============================] - 8s 5ms/step - loss: 0.4102 - accuracy: 0.8616\n",
            "Epoch 12/25\n",
            "1563/1563 [==============================] - 8s 5ms/step - loss: 0.3763 - accuracy: 0.8747\n",
            "Epoch 13/25\n",
            "1563/1563 [==============================] - 8s 5ms/step - loss: 0.3443 - accuracy: 0.8829\n",
            "Epoch 14/25\n",
            "1563/1563 [==============================] - 8s 5ms/step - loss: 0.3123 - accuracy: 0.8954\n",
            "Epoch 15/25\n",
            "1563/1563 [==============================] - 8s 5ms/step - loss: 0.2833 - accuracy: 0.9054\n",
            "Epoch 16/25\n",
            "1563/1563 [==============================] - 8s 5ms/step - loss: 0.2648 - accuracy: 0.9097\n",
            "Epoch 17/25\n",
            "1563/1563 [==============================] - 8s 5ms/step - loss: 0.2407 - accuracy: 0.9183\n",
            "Epoch 18/25\n",
            "1563/1563 [==============================] - 8s 5ms/step - loss: 0.2271 - accuracy: 0.9224\n",
            "Epoch 19/25\n",
            "1563/1563 [==============================] - 8s 5ms/step - loss: 0.2013 - accuracy: 0.9323\n",
            "Epoch 20/25\n",
            "1563/1563 [==============================] - 8s 5ms/step - loss: 0.1875 - accuracy: 0.9362\n",
            "Epoch 21/25\n",
            "1563/1563 [==============================] - 8s 5ms/step - loss: 0.1723 - accuracy: 0.9415\n",
            "Epoch 22/25\n",
            "1563/1563 [==============================] - 8s 5ms/step - loss: 0.1615 - accuracy: 0.9440\n",
            "Epoch 23/25\n",
            "1563/1563 [==============================] - 8s 5ms/step - loss: 0.1506 - accuracy: 0.9493\n",
            "Epoch 24/25\n",
            "1563/1563 [==============================] - 8s 5ms/step - loss: 0.1409 - accuracy: 0.9527\n",
            "Epoch 25/25\n",
            "1563/1563 [==============================] - 8s 5ms/step - loss: 0.1302 - accuracy: 0.9544\n"
          ],
          "name": "stdout"
        },
        {
          "output_type": "execute_result",
          "data": {
            "text/plain": [
              "<tensorflow.python.keras.callbacks.History at 0x7fde6bc47d30>"
            ]
          },
          "metadata": {
            "tags": []
          },
          "execution_count": 35
        }
      ]
    }
  ]
}